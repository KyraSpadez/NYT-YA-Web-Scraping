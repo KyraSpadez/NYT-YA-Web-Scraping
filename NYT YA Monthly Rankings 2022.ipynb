{
 "cells": [
  {
   "cell_type": "code",
   "execution_count": null,
   "id": "fed6e23d",
   "metadata": {},
   "outputs": [],
   "source": [
    "import requests"
   ]
  },
  {
   "cell_type": "code",
   "execution_count": 9,
   "id": "fa83dce4",
   "metadata": {},
   "outputs": [],
   "source": [
    "import pandas as pd"
   ]
  },
  {
   "cell_type": "code",
   "execution_count": 21,
   "id": "5fd91910",
   "metadata": {},
   "outputs": [],
   "source": [
    "books = []\n",
    "titles = []\n",
    "authors = []\n",
    "publishers = []\n",
    "rankings = [1, 2, 3, 4, 5, 6, 7, 8, 9, 10, 1, 2, 3, 4, 5, 6, 7, 8, 9, 10,1, 2, 3, 4, 5, 6, 7, 8, 9, 10,1, 2, 3, 4, 5, 6, 7, 8, 9, 10,1, 2, 3, 4, 5, 6, 7, 8, 9, 10,1, 2, 3, 4, 5, 6, 7, 8, 9, 10,1, 2, 3, 4, 5, 6, 7, 8, 9, 10,1, 2, 3, 4, 5, 6, 7, 8, 9, 10,1, 2, 3, 4, 5, 6, 7, 8, 9, 10,1, 2, 3, 4, 5, 6, 7, 8, 9, 10,]\n",
    "import requests\n",
    "from bs4 import BeautifulSoup\n",
    "import pandas as pd\n",
    "for i in range(3, 13):\n",
    "    if i <= 9:\n",
    "        url = f\"https://www.nytimes.com/books/best-sellers/2022/0{i}/01/young-adult-paperback-monthly/\"\n",
    "        response = requests.get(url)\n",
    "        response = response.content\n",
    "        soup = BeautifulSoup(response, 'html.parser')\n",
    "        ol = soup.find('ol')\n",
    "        articles = ol.find_all('article')\n",
    "    else:\n",
    "        url = f\"https://www.nytimes.com/books/best-sellers/2022/{i}/01/young-adult-paperback-monthly/\"\n",
    "        response = requests.get(url)\n",
    "        response = response.content\n",
    "        soup = BeautifulSoup(response, 'html.parser')\n",
    "        ol = soup.find('ol')\n",
    "        articles = ol.find_all('article')\n",
    "\n",
    "    for article in articles:\n",
    "        title = article.find('h3').text\n",
    "        title = title.title()\n",
    "        titles.append(title)\n",
    "        author = article.find('p', class_ = 'css-hjukut').text\n",
    "        author = author[3:]\n",
    "        authors.append(author)\n",
    "        publisher = article.find('p', class_ = 'css-heg334').text\n",
    "        publishers.append(publisher)\n",
    "    \n",
    "book_names = list(zip(titles, authors, publishers))\n",
    "\n",
    "book_ranks = list(zip(rankings, titles, authors, publishers))\n",
    "\n",
    "books.append(book_ranks)\n",
    "\n",
    "df = pd.DataFrame(list(zip(rankings, titles, authors, publishers)), columns = ['Rank', 'Title', 'Author', 'Publisher'])\n",
    "df.to_csv('NYTbooks2022.csv')"
   ]
  }
 ],
 "metadata": {
  "celltoolbar": "Attachments",
  "kernelspec": {
   "display_name": "Python 3 (ipykernel)",
   "language": "python",
   "name": "python3"
  },
  "language_info": {
   "codemirror_mode": {
    "name": "ipython",
    "version": 3
   },
   "file_extension": ".py",
   "mimetype": "text/x-python",
   "name": "python",
   "nbconvert_exporter": "python",
   "pygments_lexer": "ipython3",
   "version": "3.10.9"
  }
 },
 "nbformat": 4,
 "nbformat_minor": 5
}
